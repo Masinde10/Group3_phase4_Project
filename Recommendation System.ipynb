{
 "cells": [
  {
   "cell_type": "markdown",
   "metadata": {},
   "source": [
    "## MOVIES RECOMENDATION SYSTEM PROJECT\n",
    "#### GROUP 3\n",
    "##### Group Members:\n",
    "      Gideon Ochieng\n",
    "      Lorna Wangui\n",
    "      Ann Mwangi\n",
    "      Charles Odhiambo\n",
    "      Victor Masinde\n"
   ]
  },
  {
   "cell_type": "markdown",
   "metadata": {},
   "source": [
    "### Project Overview\n",
    "An international powerhouse, the film business brings in billions of dollars every year. According to Statista, the worldwide box office brought in an incredible $42.5 billion in 2019 alone. Film production, which include studios, independent producers, and streaming services, is the creative centre where motion pictures, television series, and other visual content are made. These works are marketed and delivered to theatres, streaming platforms, and other locations by the distribution division. The term \"exhibition\" describes the showing of films and television series in theatres. The allure of films is universal, bringing people from different origins together. Despite this widespread appeal, our individual film preferences are distinctive, ranging from romance to sci-fi to thrillers, and frequently focussing on our favourite actors and filmmakers."
   ]
  },
  {
   "cell_type": "markdown",
   "metadata": {},
   "source": [
    "### Business Understanding\n",
    "#### Real-World Problem\n",
    "In an era where streaming platforms dominate the entertainment landscape, users often face difficulty in selecting movies due to the overwhelming number of choices available. This leads to \"choice paralysis,\" where the sheer volume of options prevents users from making satisfying decisions. A recommendation system can address this by providing personalized movie suggestions based on a user’s past ratings, making their movie-watching experience more enjoyable and efficient.\n",
    "\n",
    "#### Stakeholders\n",
    "Primary Stakeholders:\n",
    "\n",
    "End Users: Individuals who need personalized recommendations to find movies they are likely to enjoy.\n",
    "Streaming Platforms: Businesses looking to enhance user engagement and retention by offering tailored recommendations.\n",
    "Secondary Stakeholders:\n",
    "\n",
    "Movie Studios: Studios seeking insights into audience preferences to guide future productions.\n",
    "Market Researchers: Analysts studying consumer behavior through movie preferences and trends.\n",
    "Project Value\n",
    "The project will solve the problem of overwhelming choice by providing users with a personalized top-5 list of movie recommendations. It will:\n",
    "\n",
    "Enhance user satisfaction by reducing time spent searching for movies.\n",
    "Improve user engagement for streaming platforms, leading to higher retention rates.\n",
    "Help streaming platforms and studios understand user preferences, informing content strategies and acquisitions.\n",
    "Business Goals\n",
    "Create a recommendation system using collaborative filtering to predict user preferences.\n",
    "Provide an easy-to-use interface where users can input ratings for movies they've watched.\n",
    "Ensure the system addresses the \"cold start\" problem for new users by incorporating content-based techniques.\n",
    "\n",
    "Conclusion\n",
    "\n",
    "The recommendation system will make movie selection faster and more satisfying for users, while also providing business value to streaming platforms and studios by increasing engagement and understanding consumer preferences."
   ]
  },
  {
   "cell_type": "markdown",
   "metadata": {},
   "source": []
  }
 ],
 "metadata": {
  "kernelspec": {
   "display_name": "learn-env",
   "language": "python",
   "name": "python3"
  },
  "language_info": {
   "codemirror_mode": {
    "name": "ipython",
    "version": 3
   },
   "file_extension": ".py",
   "mimetype": "text/x-python",
   "name": "python",
   "nbconvert_exporter": "python",
   "pygments_lexer": "ipython3",
   "version": "3.8.5"
  }
 },
 "nbformat": 4,
 "nbformat_minor": 2
}
